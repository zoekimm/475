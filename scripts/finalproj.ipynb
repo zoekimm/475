{
  "nbformat": 4,
  "nbformat_minor": 0,
  "metadata": {
    "colab": {
      "name": "ML Final Project.ipynb",
      "provenance": []
    },
    "kernelspec": {
      "name": "python3",
      "display_name": "Python 3"
    },
    "language_info": {
      "name": "python"
    }
  },
  "cells": [
    {
      "cell_type": "code",
      "metadata": {
        "id": "xrvhhySvGanD"
      },
      "source": [
        "input = [] #English\n",
        "output = [] #Russian\n",
        "\n",
        "with open('./english-russian.txt', encoding='utf8') as f:\n",
        "    for line in f:\n",
        "        sentences = line.split('\\t')[:2]\n",
        "        input.append(sentences[0])\n",
        "        output.append(sentences[1])"
      ],
      "execution_count": null,
      "outputs": []
    },
    {
      "cell_type": "code",
      "metadata": {
        "colab": {
          "base_uri": "https://localhost:8080/"
        },
        "id": "cUhmKCezGqpB",
        "outputId": "8182ba5d-13cb-4d79-a1b1-8597acf25693"
      },
      "source": [
        "# check the size of vocab for each language\n",
        "from collections import Counter\n",
        "from itertools import chain\n",
        "\n",
        "english_vocab = []\n",
        "russian_vocab = []\n",
        "\n",
        "def get_vocab(li):\n",
        "  temp = []\n",
        "  for i in li:\n",
        "    i = \"\".join(word for word in i if word not in ('!','.','?')) #other puncutations?\n",
        "    temp.append(i.split())\n",
        "  \n",
        "  return list(chain(*temp))\n",
        "english_vocab = get_vocab(input)\n",
        "russian_vocab = get_vocab(output)\n",
        "\n",
        "print(str(len(input)) + ' English and Russian sentences in the dataset')\n",
        "print(str(len(Counter(english_vocab).keys())) + ' English words in the dataset')\n",
        "print(str(len(Counter(russian_vocab).keys())) + ' Russian words in the dataset')"
      ],
      "execution_count": null,
      "outputs": [
        {
          "output_type": "stream",
          "name": "stdout",
          "text": [
            "363386 English and Russian sentences in the dataset\n",
            "21891 English words in the dataset\n",
            "67443 Russian words in the dataset\n"
          ]
        }
      ]
    },
    {
      "cell_type": "code",
      "metadata": {
        "id": "ecBku5ocOzv2"
      },
      "source": [
        "from keras.preprocessing.text import Tokenizer\n",
        "from keras.preprocessing.sequence import pad_sequences\n",
        "\n",
        "def tok(sentences):\n",
        "  t = Tokenizer()\n",
        "  t.fit_on_texts(sentences)\n",
        "  return t\n",
        "\n",
        "def encode(t, len, sentences):\n",
        "  sequence = t.texts_to_sequences(sentences)\n",
        "  sequence = pad_sequences(seq, len, padding='post')\n",
        "  return sequence"
      ],
      "execution_count": null,
      "outputs": []
    }
  ]
}
