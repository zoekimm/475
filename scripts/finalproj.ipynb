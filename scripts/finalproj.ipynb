{
  "nbformat": 4,
  "nbformat_minor": 0,
  "metadata": {
    "colab": {
      "name": "ML Final Project.ipynb",
      "provenance": []
    },
    "kernelspec": {
      "name": "python3",
      "display_name": "Python 3"
    },
    "language_info": {
      "name": "python"
    }
  },
  "cells": [
    {
      "cell_type": "code",
      "source": [
        "!apt-get install unzip"
      ],
      "metadata": {
        "colab": {
          "base_uri": "https://localhost:8080/"
        },
        "id": "G0dbm5c9Z2qg",
        "outputId": "66ec911d-4d50-481f-dd6e-9111a48a0884"
      },
      "execution_count": 1,
      "outputs": [
        {
          "output_type": "stream",
          "name": "stdout",
          "text": [
            "Reading package lists... Done\n",
            "Building dependency tree       \n",
            "Reading state information... Done\n",
            "unzip is already the newest version (6.0-21ubuntu1.1).\n",
            "0 upgraded, 0 newly installed, 0 to remove and 37 not upgraded.\n"
          ]
        }
      ]
    },
    {
      "cell_type": "code",
      "source": [
        "!wget \"https://github.com/zoekimm/475/blob/main/scripts/english-russian.txt.zip?raw=true\""
      ],
      "metadata": {
        "colab": {
          "base_uri": "https://localhost:8080/"
        },
        "id": "Bsqt-m-rZ6Z7",
        "outputId": "2ee42c12-5ada-4902-f93c-99e1a6cb805f"
      },
      "execution_count": 2,
      "outputs": [
        {
          "output_type": "stream",
          "name": "stdout",
          "text": [
            "--2021-12-10 11:09:57--  https://github.com/zoekimm/475/blob/main/scripts/english-russian.txt.zip?raw=true\n",
            "Resolving github.com (github.com)... 192.30.255.113\n",
            "Connecting to github.com (github.com)|192.30.255.113|:443... connected.\n",
            "HTTP request sent, awaiting response... 302 Found\n",
            "Location: https://github.com/zoekimm/475/raw/main/scripts/english-russian.txt.zip [following]\n",
            "--2021-12-10 11:09:57--  https://github.com/zoekimm/475/raw/main/scripts/english-russian.txt.zip\n",
            "Reusing existing connection to github.com:443.\n",
            "HTTP request sent, awaiting response... 302 Found\n",
            "Location: https://raw.githubusercontent.com/zoekimm/475/main/scripts/english-russian.txt.zip [following]\n",
            "--2021-12-10 11:09:57--  https://raw.githubusercontent.com/zoekimm/475/main/scripts/english-russian.txt.zip\n",
            "Resolving raw.githubusercontent.com (raw.githubusercontent.com)... 185.199.109.133, 185.199.110.133, 185.199.111.133, ...\n",
            "Connecting to raw.githubusercontent.com (raw.githubusercontent.com)|185.199.109.133|:443... connected.\n",
            "HTTP request sent, awaiting response... 200 OK\n",
            "Length: 12314874 (12M) [application/zip]\n",
            "Saving to: ‘english-russian.txt.zip?raw=true.1’\n",
            "\n",
            "english-russian.txt 100%[===================>]  11.74M  --.-KB/s    in 0.1s    \n",
            "\n",
            "2021-12-10 11:09:58 (117 MB/s) - ‘english-russian.txt.zip?raw=true.1’ saved [12314874/12314874]\n",
            "\n"
          ]
        }
      ]
    },
    {
      "cell_type": "code",
      "source": [
        "!unzip /content/english-russian.txt.zip?raw=true"
      ],
      "metadata": {
        "colab": {
          "base_uri": "https://localhost:8080/"
        },
        "id": "-UDr6-XccwBH",
        "outputId": "3dc84c9c-57ce-485b-954e-b26501847de8"
      },
      "execution_count": 3,
      "outputs": [
        {
          "output_type": "stream",
          "name": "stdout",
          "text": [
            "Archive:  /content/english-russian.txt.zip?raw=true\n",
            "replace english-russian.txt? [y]es, [n]o, [A]ll, [N]one, [r]ename: y\n",
            "  inflating: english-russian.txt     \n",
            "replace __MACOSX/._english-russian.txt? [y]es, [n]o, [A]ll, [N]one, [r]ename: y\n",
            "  inflating: __MACOSX/._english-russian.txt  \n"
          ]
        }
      ]
    },
